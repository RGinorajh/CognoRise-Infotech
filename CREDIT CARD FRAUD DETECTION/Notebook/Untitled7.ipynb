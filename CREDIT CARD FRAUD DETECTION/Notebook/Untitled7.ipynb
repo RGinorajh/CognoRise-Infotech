{
  "nbformat": 4,
  "nbformat_minor": 0,
  "metadata": {
    "colab": {
      "provenance": []
    },
    "kernelspec": {
      "name": "python3",
      "display_name": "Python 3"
    },
    "language_info": {
      "name": "python"
    }
  },
  "cells": [
    {
      "cell_type": "code",
      "execution_count": 16,
      "metadata": {
        "id": "FSeRmSmUc4hQ"
      },
      "outputs": [],
      "source": [
        "#Import necessary libraries\n",
        "import pandas as pd\n",
        "import numpy as np\n",
        "from sklearn.model_selection import train_test_split\n",
        "from sklearn.preprocessing import StandardScaler\n",
        "from sklearn.ensemble import RandomForestClassifier\n",
        "from sklearn.metrics import precision_score, recall_score, f1_score, confusion_matrix, classification_report\n",
        "from imblearn.over_sampling import SMOTE\n",
        "import seaborn as sns\n",
        "import matplotlib.pyplot as plt\n",
        "import joblib"
      ]
    },
    {
      "cell_type": "code",
      "source": [
        "# Load the dataset\n",
        "data = pd.read_csv('creditcard.csv')\n",
        "\n",
        "# Data Overview\n",
        "print(data.info())\n",
        "print(data.describe())\n",
        "print(data.isnull().sum())  # Checking for missing values"
      ],
      "metadata": {
        "colab": {
          "base_uri": "https://localhost:8080/"
        },
        "id": "WU8L6_u0dHDy",
        "outputId": "793c1a78-73ee-470e-c2e5-a2a4e67ca01a"
      },
      "execution_count": 2,
      "outputs": [
        {
          "output_type": "stream",
          "name": "stdout",
          "text": [
            "<class 'pandas.core.frame.DataFrame'>\n",
            "RangeIndex: 156612 entries, 0 to 156611\n",
            "Data columns (total 31 columns):\n",
            " #   Column  Non-Null Count   Dtype  \n",
            "---  ------  --------------   -----  \n",
            " 0   Time    156612 non-null  float64\n",
            " 1   V1      156612 non-null  float64\n",
            " 2   V2      156611 non-null  float64\n",
            " 3   V3      156611 non-null  float64\n",
            " 4   V4      156611 non-null  float64\n",
            " 5   V5      156611 non-null  float64\n",
            " 6   V6      156611 non-null  float64\n",
            " 7   V7      156611 non-null  float64\n",
            " 8   V8      156611 non-null  float64\n",
            " 9   V9      156611 non-null  float64\n",
            " 10  V10     156611 non-null  float64\n",
            " 11  V11     156611 non-null  float64\n",
            " 12  V12     156611 non-null  float64\n",
            " 13  V13     156611 non-null  float64\n",
            " 14  V14     156611 non-null  float64\n",
            " 15  V15     156611 non-null  float64\n",
            " 16  V16     156611 non-null  float64\n",
            " 17  V17     156611 non-null  float64\n",
            " 18  V18     156611 non-null  float64\n",
            " 19  V19     156611 non-null  float64\n",
            " 20  V20     156611 non-null  float64\n",
            " 21  V21     156611 non-null  float64\n",
            " 22  V22     156611 non-null  float64\n",
            " 23  V23     156611 non-null  float64\n",
            " 24  V24     156611 non-null  float64\n",
            " 25  V25     156611 non-null  float64\n",
            " 26  V26     156611 non-null  float64\n",
            " 27  V27     156611 non-null  float64\n",
            " 28  V28     156611 non-null  float64\n",
            " 29  Amount  156611 non-null  float64\n",
            " 30  Class   156611 non-null  float64\n",
            "dtypes: float64(31)\n",
            "memory usage: 37.0 MB\n",
            "None\n",
            "                Time             V1             V2             V3  \\\n",
            "count  156612.000000  156612.000000  156611.000000  156611.000000   \n",
            "mean    56114.721286      -0.226386       0.048394       0.593043   \n",
            "std     23396.766143       1.845422       1.623688       1.342725   \n",
            "min         0.000000     -56.407510     -72.715728     -33.680984   \n",
            "25%     39715.750000      -1.015986      -0.535158       0.078524   \n",
            "50%     57468.500000      -0.252679       0.121513       0.696591   \n",
            "75%     74684.000000       1.167918       0.808926       1.335921   \n",
            "max    108499.000000       2.439207      22.057729       9.382558   \n",
            "\n",
            "                  V4             V5             V6             V7  \\\n",
            "count  156611.000000  156611.000000  156611.000000  156611.000000   \n",
            "mean        0.138981      -0.226417       0.070158      -0.102414   \n",
            "std         1.359583       1.333430       1.291758       1.215751   \n",
            "min        -5.519697     -42.147898     -26.160506     -43.557242   \n",
            "25%        -0.719040      -0.865289      -0.675734      -0.598388   \n",
            "50%         0.153742      -0.270190      -0.187679      -0.048747   \n",
            "75%         0.971445       0.307798       0.458524       0.439542   \n",
            "max        16.875344      34.801666      22.529298      36.677268   \n",
            "\n",
            "                  V8             V9  ...            V21            V22  \\\n",
            "count  156611.000000  156611.000000  ...  156611.000000  156611.000000   \n",
            "mean        0.046492       0.000103  ...      -0.037754      -0.107719   \n",
            "std         1.247100       1.153654  ...       0.748501       0.650177   \n",
            "min       -73.216718     -13.434066  ...     -34.830382     -10.933144   \n",
            "25%        -0.147495      -0.674379  ...      -0.231035      -0.551261   \n",
            "50%         0.069685      -0.099691  ...      -0.060559      -0.084204   \n",
            "75%         0.364539       0.616347  ...       0.114578       0.324146   \n",
            "max        20.007208      15.594995  ...      27.202839      10.503090   \n",
            "\n",
            "                 V23            V24            V25            V26  \\\n",
            "count  156611.000000  156611.000000  156611.000000  156611.000000   \n",
            "mean       -0.027034       0.009327       0.110154       0.019957   \n",
            "std         0.589119       0.596356       0.453140       0.492833   \n",
            "min       -44.807735      -2.836627     -10.295397      -2.604551   \n",
            "25%        -0.171222      -0.329197      -0.166798      -0.327064   \n",
            "50%        -0.040998       0.062540       0.151404      -0.056238   \n",
            "75%         0.091124       0.411265       0.410003       0.286548   \n",
            "max        19.002942       4.022866       7.519589       3.517346   \n",
            "\n",
            "                 V27            V28         Amount          Class  \n",
            "count  156611.000000  156611.000000  156611.000000  156611.000000  \n",
            "mean        0.001358       0.002436      88.193486       0.002235  \n",
            "std         0.394077       0.311975     246.283133       0.047221  \n",
            "min       -22.565679     -11.710896       0.000000       0.000000  \n",
            "25%        -0.063970      -0.012232       5.850000       0.000000  \n",
            "50%         0.010348       0.022534      22.060000       0.000000  \n",
            "75%         0.089525       0.078085      78.000000       0.000000  \n",
            "max        12.152401      33.847808   19656.530000       1.000000  \n",
            "\n",
            "[8 rows x 31 columns]\n",
            "Time      0\n",
            "V1        0\n",
            "V2        1\n",
            "V3        1\n",
            "V4        1\n",
            "V5        1\n",
            "V6        1\n",
            "V7        1\n",
            "V8        1\n",
            "V9        1\n",
            "V10       1\n",
            "V11       1\n",
            "V12       1\n",
            "V13       1\n",
            "V14       1\n",
            "V15       1\n",
            "V16       1\n",
            "V17       1\n",
            "V18       1\n",
            "V19       1\n",
            "V20       1\n",
            "V21       1\n",
            "V22       1\n",
            "V23       1\n",
            "V24       1\n",
            "V25       1\n",
            "V26       1\n",
            "V27       1\n",
            "V28       1\n",
            "Amount    1\n",
            "Class     1\n",
            "dtype: int64\n"
          ]
        }
      ]
    },
    {
      "cell_type": "code",
      "source": [
        "data = data.dropna(subset=['Class'])\n",
        "\n",
        "# Splitting features and labels\n",
        "X = data.drop(columns=['Class'])\n",
        "y = data['Class']\n",
        "\n",
        "# Normalization of the data\n",
        "scaler = StandardScaler()\n",
        "X_scaled = scaler.fit_transform(X)\n",
        "\n",
        "# Handling class imbalance using SMOTE (Oversampling the minority class)\n",
        "smote = SMOTE(sampling_strategy='minority')\n",
        "X_resampled, y_resampled = smote.fit_resample(X_scaled, y)\n",
        "\n",
        "# Splitting the data into training and testing subsets\n",
        "X_train, X_test, y_train, y_test = train_test_split(X_resampled, y_resampled, test_size=0.3, random_state=42)\n",
        "\n"
      ],
      "metadata": {
        "id": "3p0qJXvPeR5B"
      },
      "execution_count": 4,
      "outputs": []
    },
    {
      "cell_type": "code",
      "source": [
        "# Random Forest\n",
        "rf_model = RandomForestClassifier(n_estimators=100, random_state=42)\n",
        "rf_model.fit(X_train, y_train)\n",
        "y_pred_rf = rf_model.predict(X_test)"
      ],
      "metadata": {
        "id": "wQrQ_-nAfT4P"
      },
      "execution_count": 5,
      "outputs": []
    },
    {
      "cell_type": "code",
      "source": [
        "# Evaluate the model (Precision, Recall, F1-Score)\n",
        "print(\"Random Forest:\")\n",
        "print(classification_report(y_test, y_pred_rf))\n",
        "print(\"Confusion Matrix:\\n\", confusion_matrix(y_test, y_pred_rf))"
      ],
      "metadata": {
        "colab": {
          "base_uri": "https://localhost:8080/"
        },
        "id": "_S4KkNmefnQm",
        "outputId": "de0f9d17-2b24-4600-f86c-d85f5f3f9f9d"
      },
      "execution_count": 6,
      "outputs": [
        {
          "output_type": "stream",
          "name": "stdout",
          "text": [
            "Random Forest:\n",
            "              precision    recall  f1-score   support\n",
            "\n",
            "         0.0       1.00      1.00      1.00     46940\n",
            "         1.0       1.00      1.00      1.00     46817\n",
            "\n",
            "    accuracy                           1.00     93757\n",
            "   macro avg       1.00      1.00      1.00     93757\n",
            "weighted avg       1.00      1.00      1.00     93757\n",
            "\n",
            "Confusion Matrix:\n",
            " [[46923    17]\n",
            " [    0 46817]]\n"
          ]
        }
      ]
    },
    {
      "cell_type": "code",
      "source": [
        "# Confusion Matrix for Random Forest\n",
        "plt.figure(figsize=(7,5))\n",
        "sns.heatmap(confusion_matrix(y_test, y_pred_rf), annot=True, fmt='d', cmap='Blues')\n",
        "plt.title('Confusion Matrix - Random Forest')\n",
        "plt.ylabel('True Label')\n",
        "plt.xlabel('Predicted Label')\n",
        "plt.show()"
      ],
      "metadata": {
        "colab": {
          "base_uri": "https://localhost:8080/",
          "height": 487
        },
        "id": "_iXYEisAfqN4",
        "outputId": "a625c36a-2857-4f82-8441-d78caef16067"
      },
      "execution_count": 7,
      "outputs": [
        {
          "output_type": "display_data",
          "data": {
            "text/plain": [
              "<Figure size 700x500 with 2 Axes>"
            ],
            "image/png": "[encoded data removed]"
          },
          "metadata": {}
        }
      ]
    },
    {
      "cell_type": "code",
      "source": [
        "# Precision-Recall and F1-score display\n",
        "precision = precision_score(y_test, y_pred_rf)\n",
        "recall = recall_score(y_test, y_pred_rf)\n",
        "f1 = f1_score(y_test, y_pred_rf)\n",
        "\n",
        "print(f\"Precision: {precision:.4f}\")\n",
        "print(f\"Recall: {recall:.4f}\")\n",
        "print(f\"F1-Score: {f1:.4f}\")"
      ],
      "metadata": {
        "colab": {
          "base_uri": "https://localhost:8080/"
        },
        "id": "ed1wXfSNf1_y",
        "outputId": "7e1b75ad-cf38-4c30-865b-6ada7d590c9f"
      },
      "execution_count": 8,
      "outputs": [
        {
          "output_type": "stream",
          "name": "stdout",
          "text": [
            "Precision: 0.9996\n",
            "Recall: 1.0000\n",
            "F1-Score: 0.9998\n"
          ]
        }
      ]
    },
    {
      "cell_type": "code",
      "source": [
        "# Example of a new transaction with 30 features\n",
        "new_transaction = [[34567, -2.312226, 1.951993, -1.391657, -1.150297, -2.254491, -0.199037, -0.261178, -0.430682, 1.204001,\n",
        "                    0.542278, -0.073305, -0.073529, -0.204970, 1.031134, 0.465211, -0.094567, -2.334213, 0.515320,\n",
        "                    -0.936233, -0.241626, 0.486180, 0.374807, -0.007318, -0.001897, 0.001778, 0.000383, -0.000040,\n",
        "                    0.000074, 1500]]  # 30 features\n",
        "# Preprocess the input using the same scaler (with the correct feature count)\n",
        "new_transaction_scaled = scaler.transform(new_transaction)\n",
        "\n",
        "# Make a prediction using the trained Random Forest model\n",
        "prediction = rf_model.predict(new_transaction_scaled)\n",
        "\n",
        "# Output the result\n",
        "if prediction == 1:\n",
        "    print(\"Prediction: Fraudulent transaction\")\n",
        "else:\n",
        "    print(\"Prediction: Legitimate transaction\")\n",
        "\n"
      ],
      "metadata": {
        "colab": {
          "base_uri": "https://localhost:8080/"
        },
        "id": "3uyg7pY_hl_8",
        "outputId": "d34260df-a4d4-4c14-eeb6-943694e48130"
      },
      "execution_count": 17,
      "outputs": [
        {
          "output_type": "stream",
          "name": "stdout",
          "text": [
            "Prediction: Legitimate transaction\n"
          ]
        },
        {
          "output_type": "stream",
          "name": "stderr",
          "text": [
            "/usr/local/lib/python3.10/dist-packages/sklearn/base.py:465: UserWarning: X does not have valid feature names, but StandardScaler was fitted with feature names\n",
            "  warnings.warn(\n"
          ]
        },
        {
          "output_type": "execute_result",
          "data": {
            "text/plain": [
              "['random_forest_model.pkl']"
            ]
          },
          "metadata": {},
          "execution_count": 17
        }
      ]
    }
  ]
}